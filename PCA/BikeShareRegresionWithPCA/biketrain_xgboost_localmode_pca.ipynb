{
 "cells": [
  {
   "cell_type": "markdown",
   "metadata": {},
   "source": [
    "## Train  model using PCA Components\n",
    "###  Model is trained with XGBoost installed in notebook instance"
   ]
  },
  {
   "cell_type": "code",
   "execution_count": 1,
   "metadata": {},
   "outputs": [
    {
     "name": "stdout",
     "output_type": "stream",
     "text": [
      "Collecting xgboost==0.90\n",
      "  Downloading xgboost-0.90.tar.gz (676 kB)\n",
      "\u001b[2K     \u001b[90m━━━━━━━━━━━━━━━━━━━━━━━━━━━━━━━━━━━━━━\u001b[0m \u001b[32m676.7/676.7 kB\u001b[0m \u001b[31m15.6 MB/s\u001b[0m eta \u001b[36m0:00:00\u001b[0m00:01\u001b[0m\n",
      "\u001b[?25h  Preparing metadata (setup.py) ... \u001b[?25ldone\n",
      "\u001b[?25hRequirement already satisfied: numpy in /Users/ofotech_fitri/miniconda3/envs/tensorflow/lib/python3.10/site-packages (from xgboost==0.90) (1.23.5)\n",
      "Requirement already satisfied: scipy in /Users/ofotech_fitri/miniconda3/envs/tensorflow/lib/python3.10/site-packages (from xgboost==0.90) (1.11.1)\n",
      "Building wheels for collected packages: xgboost\n",
      "  Building wheel for xgboost (setup.py) ... \u001b[?25ldone\n",
      "\u001b[?25h  Created wheel for xgboost: filename=xgboost-0.90-cp310-cp310-macosx_11_0_arm64.whl size=1571892 sha256=1e3822da1e9f06862aa59f2343221e0979184f140fce79825890c44fbfc76f2d\n",
      "  Stored in directory: /Users/ofotech_fitri/Library/Caches/pip/wheels/8e/59/d2/23e798a15a8c0c68e1b3b78b2f49bef35303ad6b299b5de64a\n",
      "Successfully built xgboost\n",
      "Installing collected packages: xgboost\n",
      "  Attempting uninstall: xgboost\n",
      "    Found existing installation: xgboost 2.0.0\n",
      "    Uninstalling xgboost-2.0.0:\n",
      "      Successfully uninstalled xgboost-2.0.0\n",
      "Successfully installed xgboost-0.90\n"
     ]
    }
   ],
   "source": [
    "# Install xgboost in notebook instance.\n",
    "#### Command to install xgboost\n",
    "!pip install xgboost==0.90"
   ]
  },
  {
   "cell_type": "code",
   "execution_count": 2,
   "metadata": {},
   "outputs": [],
   "source": [
    "%matplotlib inline\n",
    "import sys\n",
    "import numpy as np\n",
    "import pandas as pd\n",
    "import matplotlib.pyplot as plt\n",
    "import xgboost as xgb"
   ]
  },
  {
   "cell_type": "code",
   "execution_count": 3,
   "metadata": {},
   "outputs": [],
   "source": [
    "column_list_file = 'bike_train_column_list_pca.txt'\n",
    "train_file = 'bike_train_pca.csv'\n",
    "validation_file = 'bike_validation_pca.csv'\n",
    "test_file = 'bike_test_pca.csv'"
   ]
  },
  {
   "cell_type": "code",
   "execution_count": 4,
   "metadata": {},
   "outputs": [],
   "source": [
    "columns = ''\n",
    "with open(column_list_file,'r') as f:\n",
    "    columns = f.read().split(',')"
   ]
  },
  {
   "cell_type": "code",
   "execution_count": 5,
   "metadata": {},
   "outputs": [
    {
     "data": {
      "text/plain": [
       "['count',\n",
       " 'season',\n",
       " 'holiday',\n",
       " 'workingday',\n",
       " 'weather',\n",
       " 'year',\n",
       " 'month',\n",
       " 'day',\n",
       " 'dayofweek',\n",
       " 'hour',\n",
       " 'component_0',\n",
       " 'component_1']"
      ]
     },
     "execution_count": 5,
     "metadata": {},
     "output_type": "execute_result"
    }
   ],
   "source": [
    "columns"
   ]
  },
  {
   "cell_type": "code",
   "execution_count": 6,
   "metadata": {},
   "outputs": [],
   "source": [
    "# Specify the column names as the file does not have column header\n",
    "df_train = pd.read_csv(train_file,names=columns)\n",
    "df_validation = pd.read_csv(validation_file,names=columns)"
   ]
  },
  {
   "cell_type": "code",
   "execution_count": 7,
   "metadata": {},
   "outputs": [
    {
     "data": {
      "text/html": [
       "<div>\n",
       "<style scoped>\n",
       "    .dataframe tbody tr th:only-of-type {\n",
       "        vertical-align: middle;\n",
       "    }\n",
       "\n",
       "    .dataframe tbody tr th {\n",
       "        vertical-align: top;\n",
       "    }\n",
       "\n",
       "    .dataframe thead th {\n",
       "        text-align: right;\n",
       "    }\n",
       "</style>\n",
       "<table border=\"1\" class=\"dataframe\">\n",
       "  <thead>\n",
       "    <tr style=\"text-align: right;\">\n",
       "      <th></th>\n",
       "      <th>count</th>\n",
       "      <th>season</th>\n",
       "      <th>holiday</th>\n",
       "      <th>workingday</th>\n",
       "      <th>weather</th>\n",
       "      <th>year</th>\n",
       "      <th>month</th>\n",
       "      <th>day</th>\n",
       "      <th>dayofweek</th>\n",
       "      <th>hour</th>\n",
       "      <th>component_0</th>\n",
       "      <th>component_1</th>\n",
       "    </tr>\n",
       "  </thead>\n",
       "  <tbody>\n",
       "    <tr>\n",
       "      <th>0</th>\n",
       "      <td>4.477337</td>\n",
       "      <td>3</td>\n",
       "      <td>0</td>\n",
       "      <td>0</td>\n",
       "      <td>2</td>\n",
       "      <td>2011</td>\n",
       "      <td>9</td>\n",
       "      <td>3</td>\n",
       "      <td>5</td>\n",
       "      <td>0</td>\n",
       "      <td>-0.024157</td>\n",
       "      <td>-0.117305</td>\n",
       "    </tr>\n",
       "    <tr>\n",
       "      <th>1</th>\n",
       "      <td>5.517453</td>\n",
       "      <td>3</td>\n",
       "      <td>0</td>\n",
       "      <td>1</td>\n",
       "      <td>1</td>\n",
       "      <td>2012</td>\n",
       "      <td>8</td>\n",
       "      <td>13</td>\n",
       "      <td>0</td>\n",
       "      <td>14</td>\n",
       "      <td>0.421581</td>\n",
       "      <td>-0.206154</td>\n",
       "    </tr>\n",
       "  </tbody>\n",
       "</table>\n",
       "</div>"
      ],
      "text/plain": [
       "      count  season  holiday  workingday  weather  year  month  day  \\\n",
       "0  4.477337       3        0           0        2  2011      9    3   \n",
       "1  5.517453       3        0           1        1  2012      8   13   \n",
       "\n",
       "   dayofweek  hour  component_0  component_1  \n",
       "0          5     0    -0.024157    -0.117305  \n",
       "1          0    14     0.421581    -0.206154  "
      ]
     },
     "execution_count": 7,
     "metadata": {},
     "output_type": "execute_result"
    }
   ],
   "source": [
    "df_train.head(2)"
   ]
  },
  {
   "cell_type": "code",
   "execution_count": 8,
   "metadata": {},
   "outputs": [
    {
     "data": {
      "text/html": [
       "<div>\n",
       "<style scoped>\n",
       "    .dataframe tbody tr th:only-of-type {\n",
       "        vertical-align: middle;\n",
       "    }\n",
       "\n",
       "    .dataframe tbody tr th {\n",
       "        vertical-align: top;\n",
       "    }\n",
       "\n",
       "    .dataframe thead th {\n",
       "        text-align: right;\n",
       "    }\n",
       "</style>\n",
       "<table border=\"1\" class=\"dataframe\">\n",
       "  <thead>\n",
       "    <tr style=\"text-align: right;\">\n",
       "      <th></th>\n",
       "      <th>count</th>\n",
       "      <th>season</th>\n",
       "      <th>holiday</th>\n",
       "      <th>workingday</th>\n",
       "      <th>weather</th>\n",
       "      <th>year</th>\n",
       "      <th>month</th>\n",
       "      <th>day</th>\n",
       "      <th>dayofweek</th>\n",
       "      <th>hour</th>\n",
       "      <th>component_0</th>\n",
       "      <th>component_1</th>\n",
       "    </tr>\n",
       "  </thead>\n",
       "  <tbody>\n",
       "    <tr>\n",
       "      <th>0</th>\n",
       "      <td>6.095825</td>\n",
       "      <td>3</td>\n",
       "      <td>0</td>\n",
       "      <td>1</td>\n",
       "      <td>2</td>\n",
       "      <td>2011</td>\n",
       "      <td>7</td>\n",
       "      <td>7</td>\n",
       "      <td>3</td>\n",
       "      <td>8</td>\n",
       "      <td>0.000338</td>\n",
       "      <td>-0.064822</td>\n",
       "    </tr>\n",
       "    <tr>\n",
       "      <th>1</th>\n",
       "      <td>5.961005</td>\n",
       "      <td>2</td>\n",
       "      <td>0</td>\n",
       "      <td>0</td>\n",
       "      <td>1</td>\n",
       "      <td>2011</td>\n",
       "      <td>6</td>\n",
       "      <td>11</td>\n",
       "      <td>5</td>\n",
       "      <td>13</td>\n",
       "      <td>0.225850</td>\n",
       "      <td>-0.105773</td>\n",
       "    </tr>\n",
       "  </tbody>\n",
       "</table>\n",
       "</div>"
      ],
      "text/plain": [
       "      count  season  holiday  workingday  weather  year  month  day  \\\n",
       "0  6.095825       3        0           1        2  2011      7    7   \n",
       "1  5.961005       2        0           0        1  2011      6   11   \n",
       "\n",
       "   dayofweek  hour  component_0  component_1  \n",
       "0          3     8     0.000338    -0.064822  \n",
       "1          5    13     0.225850    -0.105773  "
      ]
     },
     "execution_count": 8,
     "metadata": {},
     "output_type": "execute_result"
    }
   ],
   "source": [
    "df_validation.head(2)"
   ]
  },
  {
   "cell_type": "code",
   "execution_count": 9,
   "metadata": {},
   "outputs": [
    {
     "data": {
      "text/html": [
       "<div>\n",
       "<style scoped>\n",
       "    .dataframe tbody tr th:only-of-type {\n",
       "        vertical-align: middle;\n",
       "    }\n",
       "\n",
       "    .dataframe tbody tr th {\n",
       "        vertical-align: top;\n",
       "    }\n",
       "\n",
       "    .dataframe thead th {\n",
       "        text-align: right;\n",
       "    }\n",
       "</style>\n",
       "<table border=\"1\" class=\"dataframe\">\n",
       "  <thead>\n",
       "    <tr style=\"text-align: right;\">\n",
       "      <th></th>\n",
       "      <th>season</th>\n",
       "      <th>holiday</th>\n",
       "      <th>workingday</th>\n",
       "      <th>weather</th>\n",
       "      <th>year</th>\n",
       "      <th>month</th>\n",
       "      <th>day</th>\n",
       "      <th>dayofweek</th>\n",
       "      <th>hour</th>\n",
       "    </tr>\n",
       "  </thead>\n",
       "  <tbody>\n",
       "    <tr>\n",
       "      <th>0</th>\n",
       "      <td>3</td>\n",
       "      <td>0</td>\n",
       "      <td>0</td>\n",
       "      <td>2</td>\n",
       "      <td>2011</td>\n",
       "      <td>9</td>\n",
       "      <td>3</td>\n",
       "      <td>5</td>\n",
       "      <td>0</td>\n",
       "    </tr>\n",
       "    <tr>\n",
       "      <th>1</th>\n",
       "      <td>3</td>\n",
       "      <td>0</td>\n",
       "      <td>1</td>\n",
       "      <td>1</td>\n",
       "      <td>2012</td>\n",
       "      <td>8</td>\n",
       "      <td>13</td>\n",
       "      <td>0</td>\n",
       "      <td>14</td>\n",
       "    </tr>\n",
       "  </tbody>\n",
       "</table>\n",
       "</div>"
      ],
      "text/plain": [
       "   season  holiday  workingday  weather  year  month  day  dayofweek  hour\n",
       "0       3        0           0        2  2011      9    3          5     0\n",
       "1       3        0           1        1  2012      8   13          0    14"
      ]
     },
     "execution_count": 9,
     "metadata": {},
     "output_type": "execute_result"
    }
   ],
   "source": [
    "df_train.iloc[:,1:-2].head(2)"
   ]
  },
  {
   "cell_type": "code",
   "execution_count": 10,
   "metadata": {},
   "outputs": [],
   "source": [
    "X_train = df_train.iloc[:,1:] # Features: 1st column onwards \n",
    "y_train = df_train.iloc[:,0].ravel() # Target: 0th column\n",
    "\n",
    "X_validation = df_validation.iloc[:,1:]\n",
    "y_validation = df_validation.iloc[:,0].ravel()"
   ]
  },
  {
   "cell_type": "code",
   "execution_count": 11,
   "metadata": {},
   "outputs": [],
   "source": [
    "# XGBoost Training Parameter Reference: \n",
    "#   https://github.com/dmlc/xgboost/blob/master/doc/parameter.md\n",
    "regressor = xgb.XGBRegressor(max_depth=5,eta=0.1,subsample=0.7,num_round=150,n_estimators=150)"
   ]
  },
  {
   "cell_type": "code",
   "execution_count": 12,
   "metadata": {},
   "outputs": [
    {
     "data": {
      "text/html": [
       "<style>#sk-container-id-1 {color: black;}#sk-container-id-1 pre{padding: 0;}#sk-container-id-1 div.sk-toggleable {background-color: white;}#sk-container-id-1 label.sk-toggleable__label {cursor: pointer;display: block;width: 100%;margin-bottom: 0;padding: 0.3em;box-sizing: border-box;text-align: center;}#sk-container-id-1 label.sk-toggleable__label-arrow:before {content: \"▸\";float: left;margin-right: 0.25em;color: #696969;}#sk-container-id-1 label.sk-toggleable__label-arrow:hover:before {color: black;}#sk-container-id-1 div.sk-estimator:hover label.sk-toggleable__label-arrow:before {color: black;}#sk-container-id-1 div.sk-toggleable__content {max-height: 0;max-width: 0;overflow: hidden;text-align: left;background-color: #f0f8ff;}#sk-container-id-1 div.sk-toggleable__content pre {margin: 0.2em;color: black;border-radius: 0.25em;background-color: #f0f8ff;}#sk-container-id-1 input.sk-toggleable__control:checked~div.sk-toggleable__content {max-height: 200px;max-width: 100%;overflow: auto;}#sk-container-id-1 input.sk-toggleable__control:checked~label.sk-toggleable__label-arrow:before {content: \"▾\";}#sk-container-id-1 div.sk-estimator input.sk-toggleable__control:checked~label.sk-toggleable__label {background-color: #d4ebff;}#sk-container-id-1 div.sk-label input.sk-toggleable__control:checked~label.sk-toggleable__label {background-color: #d4ebff;}#sk-container-id-1 input.sk-hidden--visually {border: 0;clip: rect(1px 1px 1px 1px);clip: rect(1px, 1px, 1px, 1px);height: 1px;margin: -1px;overflow: hidden;padding: 0;position: absolute;width: 1px;}#sk-container-id-1 div.sk-estimator {font-family: monospace;background-color: #f0f8ff;border: 1px dotted black;border-radius: 0.25em;box-sizing: border-box;margin-bottom: 0.5em;}#sk-container-id-1 div.sk-estimator:hover {background-color: #d4ebff;}#sk-container-id-1 div.sk-parallel-item::after {content: \"\";width: 100%;border-bottom: 1px solid gray;flex-grow: 1;}#sk-container-id-1 div.sk-label:hover label.sk-toggleable__label {background-color: #d4ebff;}#sk-container-id-1 div.sk-serial::before {content: \"\";position: absolute;border-left: 1px solid gray;box-sizing: border-box;top: 0;bottom: 0;left: 50%;z-index: 0;}#sk-container-id-1 div.sk-serial {display: flex;flex-direction: column;align-items: center;background-color: white;padding-right: 0.2em;padding-left: 0.2em;position: relative;}#sk-container-id-1 div.sk-item {position: relative;z-index: 1;}#sk-container-id-1 div.sk-parallel {display: flex;align-items: stretch;justify-content: center;background-color: white;position: relative;}#sk-container-id-1 div.sk-item::before, #sk-container-id-1 div.sk-parallel-item::before {content: \"\";position: absolute;border-left: 1px solid gray;box-sizing: border-box;top: 0;bottom: 0;left: 50%;z-index: -1;}#sk-container-id-1 div.sk-parallel-item {display: flex;flex-direction: column;z-index: 1;position: relative;background-color: white;}#sk-container-id-1 div.sk-parallel-item:first-child::after {align-self: flex-end;width: 50%;}#sk-container-id-1 div.sk-parallel-item:last-child::after {align-self: flex-start;width: 50%;}#sk-container-id-1 div.sk-parallel-item:only-child::after {width: 0;}#sk-container-id-1 div.sk-dashed-wrapped {border: 1px dashed gray;margin: 0 0.4em 0.5em 0.4em;box-sizing: border-box;padding-bottom: 0.4em;background-color: white;}#sk-container-id-1 div.sk-label label {font-family: monospace;font-weight: bold;display: inline-block;line-height: 1.2em;}#sk-container-id-1 div.sk-label-container {text-align: center;}#sk-container-id-1 div.sk-container {/* jupyter's `normalize.less` sets `[hidden] { display: none; }` but bootstrap.min.css set `[hidden] { display: none !important; }` so we also need the `!important` here to be able to override the default hidden behavior on the sphinx rendered scikit-learn.org. See: https://github.com/scikit-learn/scikit-learn/issues/21755 */display: inline-block !important;position: relative;}#sk-container-id-1 div.sk-text-repr-fallback {display: none;}</style><div id=\"sk-container-id-1\" class=\"sk-top-container\"><div class=\"sk-text-repr-fallback\"><pre>XGBRegressor(eta=0.1, max_depth=5, n_estimators=150, num_round=150,\n",
       "             subsample=0.7)</pre><b>In a Jupyter environment, please rerun this cell to show the HTML representation or trust the notebook. <br />On GitHub, the HTML representation is unable to render, please try loading this page with nbviewer.org.</b></div><div class=\"sk-container\" hidden><div class=\"sk-item\"><div class=\"sk-estimator sk-toggleable\"><input class=\"sk-toggleable__control sk-hidden--visually\" id=\"sk-estimator-id-1\" type=\"checkbox\" checked><label for=\"sk-estimator-id-1\" class=\"sk-toggleable__label sk-toggleable__label-arrow\">XGBRegressor</label><div class=\"sk-toggleable__content\"><pre>XGBRegressor(eta=0.1, max_depth=5, n_estimators=150, num_round=150,\n",
       "             subsample=0.7)</pre></div></div></div></div></div>"
      ],
      "text/plain": [
       "XGBRegressor(eta=0.1, max_depth=5, n_estimators=150, num_round=150,\n",
       "             subsample=0.7)"
      ]
     },
     "execution_count": 12,
     "metadata": {},
     "output_type": "execute_result"
    }
   ],
   "source": [
    "regressor"
   ]
  },
  {
   "cell_type": "code",
   "execution_count": 13,
   "metadata": {},
   "outputs": [
    {
     "name": "stdout",
     "output_type": "stream",
     "text": [
      "[12:26:37] WARNING: src/objective/regression_obj.cu:152: reg:linear is now deprecated in favor of reg:squarederror.\n",
      "[0]\tvalidation_0-rmse:3.90562\tvalidation_1-rmse:3.91547\n",
      "[1]\tvalidation_0-rmse:3.52689\tvalidation_1-rmse:3.53416\n",
      "[2]\tvalidation_0-rmse:3.18649\tvalidation_1-rmse:3.19187\n",
      "[3]\tvalidation_0-rmse:2.87947\tvalidation_1-rmse:2.8838\n",
      "[4]\tvalidation_0-rmse:2.6037\tvalidation_1-rmse:2.60718\n",
      "[5]\tvalidation_0-rmse:2.35787\tvalidation_1-rmse:2.36047\n",
      "[6]\tvalidation_0-rmse:2.13676\tvalidation_1-rmse:2.13887\n",
      "[7]\tvalidation_0-rmse:1.93724\tvalidation_1-rmse:1.9401\n",
      "[8]\tvalidation_0-rmse:1.75952\tvalidation_1-rmse:1.76256\n",
      "[9]\tvalidation_0-rmse:1.59887\tvalidation_1-rmse:1.60166\n",
      "[10]\tvalidation_0-rmse:1.45671\tvalidation_1-rmse:1.45932\n",
      "[11]\tvalidation_0-rmse:1.32969\tvalidation_1-rmse:1.33241\n",
      "[12]\tvalidation_0-rmse:1.21548\tvalidation_1-rmse:1.21887\n",
      "[13]\tvalidation_0-rmse:1.10761\tvalidation_1-rmse:1.11197\n",
      "[14]\tvalidation_0-rmse:1.01626\tvalidation_1-rmse:1.02119\n",
      "[15]\tvalidation_0-rmse:0.936372\tvalidation_1-rmse:0.942005\n",
      "[16]\tvalidation_0-rmse:0.865028\tvalidation_1-rmse:0.871536\n",
      "[17]\tvalidation_0-rmse:0.7999\tvalidation_1-rmse:0.80862\n",
      "[18]\tvalidation_0-rmse:0.738935\tvalidation_1-rmse:0.748478\n",
      "[19]\tvalidation_0-rmse:0.687339\tvalidation_1-rmse:0.698799\n",
      "[20]\tvalidation_0-rmse:0.642203\tvalidation_1-rmse:0.654462\n",
      "[21]\tvalidation_0-rmse:0.602082\tvalidation_1-rmse:0.614644\n",
      "[22]\tvalidation_0-rmse:0.5695\tvalidation_1-rmse:0.583714\n",
      "[23]\tvalidation_0-rmse:0.536472\tvalidation_1-rmse:0.552482\n",
      "[24]\tvalidation_0-rmse:0.509316\tvalidation_1-rmse:0.525935\n",
      "[25]\tvalidation_0-rmse:0.48592\tvalidation_1-rmse:0.503442\n",
      "[26]\tvalidation_0-rmse:0.464212\tvalidation_1-rmse:0.482628\n",
      "[27]\tvalidation_0-rmse:0.447328\tvalidation_1-rmse:0.466522\n",
      "[28]\tvalidation_0-rmse:0.43197\tvalidation_1-rmse:0.45207\n",
      "[29]\tvalidation_0-rmse:0.419153\tvalidation_1-rmse:0.439649\n",
      "[30]\tvalidation_0-rmse:0.402854\tvalidation_1-rmse:0.423433\n",
      "[31]\tvalidation_0-rmse:0.391778\tvalidation_1-rmse:0.413064\n",
      "[32]\tvalidation_0-rmse:0.377262\tvalidation_1-rmse:0.399291\n",
      "[33]\tvalidation_0-rmse:0.369956\tvalidation_1-rmse:0.393027\n",
      "[34]\tvalidation_0-rmse:0.362465\tvalidation_1-rmse:0.386354\n",
      "[35]\tvalidation_0-rmse:0.357205\tvalidation_1-rmse:0.38175\n",
      "[36]\tvalidation_0-rmse:0.351782\tvalidation_1-rmse:0.376945\n",
      "[37]\tvalidation_0-rmse:0.347383\tvalidation_1-rmse:0.372969\n",
      "[38]\tvalidation_0-rmse:0.340346\tvalidation_1-rmse:0.366638\n",
      "[39]\tvalidation_0-rmse:0.336827\tvalidation_1-rmse:0.363807\n",
      "[40]\tvalidation_0-rmse:0.334168\tvalidation_1-rmse:0.361572\n",
      "[41]\tvalidation_0-rmse:0.329483\tvalidation_1-rmse:0.357675\n",
      "[42]\tvalidation_0-rmse:0.32641\tvalidation_1-rmse:0.354897\n",
      "[43]\tvalidation_0-rmse:0.324006\tvalidation_1-rmse:0.35299\n",
      "[44]\tvalidation_0-rmse:0.316806\tvalidation_1-rmse:0.3464\n",
      "[45]\tvalidation_0-rmse:0.313968\tvalidation_1-rmse:0.344329\n",
      "[46]\tvalidation_0-rmse:0.311759\tvalidation_1-rmse:0.342582\n",
      "[47]\tvalidation_0-rmse:0.309818\tvalidation_1-rmse:0.341323\n",
      "[48]\tvalidation_0-rmse:0.30838\tvalidation_1-rmse:0.340256\n",
      "[49]\tvalidation_0-rmse:0.302979\tvalidation_1-rmse:0.335178\n",
      "[50]\tvalidation_0-rmse:0.301529\tvalidation_1-rmse:0.334311\n",
      "[51]\tvalidation_0-rmse:0.300067\tvalidation_1-rmse:0.333586\n",
      "[52]\tvalidation_0-rmse:0.29884\tvalidation_1-rmse:0.332819\n",
      "[53]\tvalidation_0-rmse:0.296819\tvalidation_1-rmse:0.331102\n",
      "[54]\tvalidation_0-rmse:0.291929\tvalidation_1-rmse:0.326638\n",
      "[55]\tvalidation_0-rmse:0.290743\tvalidation_1-rmse:0.325759\n",
      "[56]\tvalidation_0-rmse:0.289949\tvalidation_1-rmse:0.325268\n",
      "[57]\tvalidation_0-rmse:0.288766\tvalidation_1-rmse:0.324529\n",
      "[58]\tvalidation_0-rmse:0.287617\tvalidation_1-rmse:0.323603\n",
      "[59]\tvalidation_0-rmse:0.284542\tvalidation_1-rmse:0.321048\n",
      "[60]\tvalidation_0-rmse:0.283631\tvalidation_1-rmse:0.320816\n",
      "[61]\tvalidation_0-rmse:0.281724\tvalidation_1-rmse:0.319271\n",
      "[62]\tvalidation_0-rmse:0.279773\tvalidation_1-rmse:0.317497\n",
      "[63]\tvalidation_0-rmse:0.277975\tvalidation_1-rmse:0.316022\n",
      "[64]\tvalidation_0-rmse:0.277394\tvalidation_1-rmse:0.315775\n",
      "[65]\tvalidation_0-rmse:0.276655\tvalidation_1-rmse:0.315185\n",
      "[66]\tvalidation_0-rmse:0.276211\tvalidation_1-rmse:0.314901\n",
      "[67]\tvalidation_0-rmse:0.27551\tvalidation_1-rmse:0.314518\n",
      "[68]\tvalidation_0-rmse:0.274925\tvalidation_1-rmse:0.314436\n",
      "[69]\tvalidation_0-rmse:0.273007\tvalidation_1-rmse:0.3128\n",
      "[70]\tvalidation_0-rmse:0.271619\tvalidation_1-rmse:0.311923\n",
      "[71]\tvalidation_0-rmse:0.270753\tvalidation_1-rmse:0.311619\n",
      "[72]\tvalidation_0-rmse:0.269845\tvalidation_1-rmse:0.310946\n",
      "[73]\tvalidation_0-rmse:0.269142\tvalidation_1-rmse:0.310565\n",
      "[74]\tvalidation_0-rmse:0.268232\tvalidation_1-rmse:0.310124\n",
      "[75]\tvalidation_0-rmse:0.26751\tvalidation_1-rmse:0.309984\n",
      "[76]\tvalidation_0-rmse:0.266858\tvalidation_1-rmse:0.309777\n",
      "[77]\tvalidation_0-rmse:0.266266\tvalidation_1-rmse:0.309383\n",
      "[78]\tvalidation_0-rmse:0.265849\tvalidation_1-rmse:0.309244\n",
      "[79]\tvalidation_0-rmse:0.264702\tvalidation_1-rmse:0.308282\n",
      "[80]\tvalidation_0-rmse:0.26399\tvalidation_1-rmse:0.308102\n",
      "[81]\tvalidation_0-rmse:0.263406\tvalidation_1-rmse:0.30776\n",
      "[82]\tvalidation_0-rmse:0.262575\tvalidation_1-rmse:0.307259\n",
      "[83]\tvalidation_0-rmse:0.262022\tvalidation_1-rmse:0.307122\n",
      "[84]\tvalidation_0-rmse:0.261742\tvalidation_1-rmse:0.307018\n",
      "[85]\tvalidation_0-rmse:0.261229\tvalidation_1-rmse:0.306893\n",
      "[86]\tvalidation_0-rmse:0.260297\tvalidation_1-rmse:0.306078\n",
      "[87]\tvalidation_0-rmse:0.259968\tvalidation_1-rmse:0.305973\n",
      "[88]\tvalidation_0-rmse:0.258663\tvalidation_1-rmse:0.30517\n",
      "[89]\tvalidation_0-rmse:0.258128\tvalidation_1-rmse:0.30528\n",
      "[90]\tvalidation_0-rmse:0.257812\tvalidation_1-rmse:0.30529\n",
      "[91]\tvalidation_0-rmse:0.257016\tvalidation_1-rmse:0.305113\n",
      "[92]\tvalidation_0-rmse:0.256489\tvalidation_1-rmse:0.304842\n",
      "[93]\tvalidation_0-rmse:0.256229\tvalidation_1-rmse:0.304808\n",
      "[94]\tvalidation_0-rmse:0.255904\tvalidation_1-rmse:0.304763\n",
      "[95]\tvalidation_0-rmse:0.255144\tvalidation_1-rmse:0.304663\n",
      "[96]\tvalidation_0-rmse:0.253891\tvalidation_1-rmse:0.303746\n",
      "[97]\tvalidation_0-rmse:0.253159\tvalidation_1-rmse:0.303374\n",
      "[98]\tvalidation_0-rmse:0.252646\tvalidation_1-rmse:0.303066\n",
      "[99]\tvalidation_0-rmse:0.252148\tvalidation_1-rmse:0.303009\n",
      "[100]\tvalidation_0-rmse:0.251914\tvalidation_1-rmse:0.302965\n",
      "[101]\tvalidation_0-rmse:0.251419\tvalidation_1-rmse:0.302868\n",
      "[102]\tvalidation_0-rmse:0.250859\tvalidation_1-rmse:0.302633\n",
      "[103]\tvalidation_0-rmse:0.250516\tvalidation_1-rmse:0.302446\n",
      "[104]\tvalidation_0-rmse:0.249845\tvalidation_1-rmse:0.30241\n",
      "[105]\tvalidation_0-rmse:0.249595\tvalidation_1-rmse:0.302363\n",
      "[106]\tvalidation_0-rmse:0.248824\tvalidation_1-rmse:0.301655\n",
      "[107]\tvalidation_0-rmse:0.248224\tvalidation_1-rmse:0.301515\n",
      "[108]\tvalidation_0-rmse:0.247824\tvalidation_1-rmse:0.301491\n",
      "[109]\tvalidation_0-rmse:0.247522\tvalidation_1-rmse:0.301436\n",
      "[110]\tvalidation_0-rmse:0.246816\tvalidation_1-rmse:0.300855\n",
      "[111]\tvalidation_0-rmse:0.246369\tvalidation_1-rmse:0.30062\n",
      "[112]\tvalidation_0-rmse:0.245764\tvalidation_1-rmse:0.300411\n",
      "[113]\tvalidation_0-rmse:0.245236\tvalidation_1-rmse:0.300056\n",
      "[114]\tvalidation_0-rmse:0.244689\tvalidation_1-rmse:0.300184\n",
      "[115]\tvalidation_0-rmse:0.244306\tvalidation_1-rmse:0.30022\n",
      "[116]\tvalidation_0-rmse:0.243245\tvalidation_1-rmse:0.299469\n",
      "[117]\tvalidation_0-rmse:0.242656\tvalidation_1-rmse:0.29909\n",
      "[118]\tvalidation_0-rmse:0.242392\tvalidation_1-rmse:0.298989\n",
      "[119]\tvalidation_0-rmse:0.241969\tvalidation_1-rmse:0.299014\n",
      "[120]\tvalidation_0-rmse:0.241358\tvalidation_1-rmse:0.298849\n",
      "[121]\tvalidation_0-rmse:0.241059\tvalidation_1-rmse:0.29877\n",
      "[122]\tvalidation_0-rmse:0.240688\tvalidation_1-rmse:0.298677\n",
      "[123]\tvalidation_0-rmse:0.240222\tvalidation_1-rmse:0.298578\n",
      "[124]\tvalidation_0-rmse:0.240047\tvalidation_1-rmse:0.298462\n",
      "[125]\tvalidation_0-rmse:0.239748\tvalidation_1-rmse:0.298346\n",
      "[126]\tvalidation_0-rmse:0.239048\tvalidation_1-rmse:0.29801\n",
      "[127]\tvalidation_0-rmse:0.237974\tvalidation_1-rmse:0.297215\n",
      "[128]\tvalidation_0-rmse:0.237669\tvalidation_1-rmse:0.29715\n",
      "[129]\tvalidation_0-rmse:0.237518\tvalidation_1-rmse:0.297169\n",
      "[130]\tvalidation_0-rmse:0.237185\tvalidation_1-rmse:0.297227\n",
      "[131]\tvalidation_0-rmse:0.236786\tvalidation_1-rmse:0.297284\n",
      "[132]\tvalidation_0-rmse:0.236298\tvalidation_1-rmse:0.297017\n",
      "[133]\tvalidation_0-rmse:0.235832\tvalidation_1-rmse:0.296937\n",
      "[134]\tvalidation_0-rmse:0.235317\tvalidation_1-rmse:0.296753\n",
      "[135]\tvalidation_0-rmse:0.234667\tvalidation_1-rmse:0.296352\n",
      "[136]\tvalidation_0-rmse:0.234218\tvalidation_1-rmse:0.296253\n",
      "[137]\tvalidation_0-rmse:0.233709\tvalidation_1-rmse:0.296139\n",
      "[138]\tvalidation_0-rmse:0.233387\tvalidation_1-rmse:0.296169\n",
      "[139]\tvalidation_0-rmse:0.233184\tvalidation_1-rmse:0.296214\n",
      "[140]\tvalidation_0-rmse:0.232779\tvalidation_1-rmse:0.296193\n",
      "[141]\tvalidation_0-rmse:0.232355\tvalidation_1-rmse:0.296242\n",
      "[142]\tvalidation_0-rmse:0.231827\tvalidation_1-rmse:0.295807\n",
      "[143]\tvalidation_0-rmse:0.231516\tvalidation_1-rmse:0.29584\n",
      "[144]\tvalidation_0-rmse:0.231165\tvalidation_1-rmse:0.295793\n",
      "[145]\tvalidation_0-rmse:0.230615\tvalidation_1-rmse:0.295732\n",
      "[146]\tvalidation_0-rmse:0.230246\tvalidation_1-rmse:0.295887\n",
      "[147]\tvalidation_0-rmse:0.229864\tvalidation_1-rmse:0.295745\n",
      "[148]\tvalidation_0-rmse:0.22968\tvalidation_1-rmse:0.295719\n",
      "[149]\tvalidation_0-rmse:0.229099\tvalidation_1-rmse:0.295349\n"
     ]
    },
    {
     "data": {
      "text/html": [
       "<style>#sk-container-id-2 {color: black;}#sk-container-id-2 pre{padding: 0;}#sk-container-id-2 div.sk-toggleable {background-color: white;}#sk-container-id-2 label.sk-toggleable__label {cursor: pointer;display: block;width: 100%;margin-bottom: 0;padding: 0.3em;box-sizing: border-box;text-align: center;}#sk-container-id-2 label.sk-toggleable__label-arrow:before {content: \"▸\";float: left;margin-right: 0.25em;color: #696969;}#sk-container-id-2 label.sk-toggleable__label-arrow:hover:before {color: black;}#sk-container-id-2 div.sk-estimator:hover label.sk-toggleable__label-arrow:before {color: black;}#sk-container-id-2 div.sk-toggleable__content {max-height: 0;max-width: 0;overflow: hidden;text-align: left;background-color: #f0f8ff;}#sk-container-id-2 div.sk-toggleable__content pre {margin: 0.2em;color: black;border-radius: 0.25em;background-color: #f0f8ff;}#sk-container-id-2 input.sk-toggleable__control:checked~div.sk-toggleable__content {max-height: 200px;max-width: 100%;overflow: auto;}#sk-container-id-2 input.sk-toggleable__control:checked~label.sk-toggleable__label-arrow:before {content: \"▾\";}#sk-container-id-2 div.sk-estimator input.sk-toggleable__control:checked~label.sk-toggleable__label {background-color: #d4ebff;}#sk-container-id-2 div.sk-label input.sk-toggleable__control:checked~label.sk-toggleable__label {background-color: #d4ebff;}#sk-container-id-2 input.sk-hidden--visually {border: 0;clip: rect(1px 1px 1px 1px);clip: rect(1px, 1px, 1px, 1px);height: 1px;margin: -1px;overflow: hidden;padding: 0;position: absolute;width: 1px;}#sk-container-id-2 div.sk-estimator {font-family: monospace;background-color: #f0f8ff;border: 1px dotted black;border-radius: 0.25em;box-sizing: border-box;margin-bottom: 0.5em;}#sk-container-id-2 div.sk-estimator:hover {background-color: #d4ebff;}#sk-container-id-2 div.sk-parallel-item::after {content: \"\";width: 100%;border-bottom: 1px solid gray;flex-grow: 1;}#sk-container-id-2 div.sk-label:hover label.sk-toggleable__label {background-color: #d4ebff;}#sk-container-id-2 div.sk-serial::before {content: \"\";position: absolute;border-left: 1px solid gray;box-sizing: border-box;top: 0;bottom: 0;left: 50%;z-index: 0;}#sk-container-id-2 div.sk-serial {display: flex;flex-direction: column;align-items: center;background-color: white;padding-right: 0.2em;padding-left: 0.2em;position: relative;}#sk-container-id-2 div.sk-item {position: relative;z-index: 1;}#sk-container-id-2 div.sk-parallel {display: flex;align-items: stretch;justify-content: center;background-color: white;position: relative;}#sk-container-id-2 div.sk-item::before, #sk-container-id-2 div.sk-parallel-item::before {content: \"\";position: absolute;border-left: 1px solid gray;box-sizing: border-box;top: 0;bottom: 0;left: 50%;z-index: -1;}#sk-container-id-2 div.sk-parallel-item {display: flex;flex-direction: column;z-index: 1;position: relative;background-color: white;}#sk-container-id-2 div.sk-parallel-item:first-child::after {align-self: flex-end;width: 50%;}#sk-container-id-2 div.sk-parallel-item:last-child::after {align-self: flex-start;width: 50%;}#sk-container-id-2 div.sk-parallel-item:only-child::after {width: 0;}#sk-container-id-2 div.sk-dashed-wrapped {border: 1px dashed gray;margin: 0 0.4em 0.5em 0.4em;box-sizing: border-box;padding-bottom: 0.4em;background-color: white;}#sk-container-id-2 div.sk-label label {font-family: monospace;font-weight: bold;display: inline-block;line-height: 1.2em;}#sk-container-id-2 div.sk-label-container {text-align: center;}#sk-container-id-2 div.sk-container {/* jupyter's `normalize.less` sets `[hidden] { display: none; }` but bootstrap.min.css set `[hidden] { display: none !important; }` so we also need the `!important` here to be able to override the default hidden behavior on the sphinx rendered scikit-learn.org. See: https://github.com/scikit-learn/scikit-learn/issues/21755 */display: inline-block !important;position: relative;}#sk-container-id-2 div.sk-text-repr-fallback {display: none;}</style><div id=\"sk-container-id-2\" class=\"sk-top-container\"><div class=\"sk-text-repr-fallback\"><pre>XGBRegressor(eta=0.1, max_depth=5, n_estimators=150, num_round=150,\n",
       "             subsample=0.7)</pre><b>In a Jupyter environment, please rerun this cell to show the HTML representation or trust the notebook. <br />On GitHub, the HTML representation is unable to render, please try loading this page with nbviewer.org.</b></div><div class=\"sk-container\" hidden><div class=\"sk-item\"><div class=\"sk-estimator sk-toggleable\"><input class=\"sk-toggleable__control sk-hidden--visually\" id=\"sk-estimator-id-2\" type=\"checkbox\" checked><label for=\"sk-estimator-id-2\" class=\"sk-toggleable__label sk-toggleable__label-arrow\">XGBRegressor</label><div class=\"sk-toggleable__content\"><pre>XGBRegressor(eta=0.1, max_depth=5, n_estimators=150, num_round=150,\n",
       "             subsample=0.7)</pre></div></div></div></div></div>"
      ],
      "text/plain": [
       "XGBRegressor(eta=0.1, max_depth=5, n_estimators=150, num_round=150,\n",
       "             subsample=0.7)"
      ]
     },
     "execution_count": 13,
     "metadata": {},
     "output_type": "execute_result"
    }
   ],
   "source": [
    "regressor.fit(X_train,y_train, eval_set = [(X_train, y_train), (X_validation, y_validation)])"
   ]
  },
  {
   "cell_type": "code",
   "execution_count": 14,
   "metadata": {},
   "outputs": [],
   "source": [
    "eval_result = regressor.evals_result()"
   ]
  },
  {
   "cell_type": "code",
   "execution_count": 15,
   "metadata": {},
   "outputs": [],
   "source": [
    "training_rounds = range(len(eval_result['validation_0']['rmse']))"
   ]
  },
  {
   "cell_type": "code",
   "execution_count": 16,
   "metadata": {},
   "outputs": [
    {
     "data": {
      "text/plain": [
       "<matplotlib.legend.Legend at 0x17e253280>"
      ]
     },
     "execution_count": 16,
     "metadata": {},
     "output_type": "execute_result"
    },
    {
     "data": {
      "image/png": "[encoded data removed]",
      "text/plain": [
       "<Figure size 640x480 with 1 Axes>"
      ]
     },
     "metadata": {},
     "output_type": "display_data"
    }
   ],
   "source": [
    "plt.scatter(x=training_rounds,y=eval_result['validation_0']['rmse'],label='Training Error')\n",
    "plt.scatter(x=training_rounds,y=eval_result['validation_1']['rmse'],label='Validation Error')\n",
    "plt.grid(True)\n",
    "plt.xlabel('Iteration')\n",
    "plt.ylabel('RMSE')\n",
    "plt.title('Training Vs Validation Error')\n",
    "plt.legend()"
   ]
  },
  {
   "cell_type": "code",
   "execution_count": 17,
   "metadata": {},
   "outputs": [
    {
     "data": {
      "text/plain": [
       "<Axes: title={'center': 'Feature importance'}, xlabel='F score', ylabel='Features'>"
      ]
     },
     "execution_count": 17,
     "metadata": {},
     "output_type": "execute_result"
    },
    {
     "data": {
      "image/png": "[encoded data removed]",
      "text/plain": [
       "<Figure size 640x480 with 1 Axes>"
      ]
     },
     "metadata": {},
     "output_type": "display_data"
    }
   ],
   "source": [
    "xgb.plot_importance(regressor)"
   ]
  },
  {
   "cell_type": "code",
   "execution_count": 18,
   "metadata": {},
   "outputs": [],
   "source": [
    "def adjust_count(x):\n",
    "    if x < 0:\n",
    "        return 0\n",
    "    else:\n",
    "        return x"
   ]
  },
  {
   "cell_type": "code",
   "execution_count": 19,
   "metadata": {},
   "outputs": [],
   "source": [
    "# Prepare Data for Submission to Kaggle\n",
    "df_test = pd.read_csv(test_file,parse_dates=['datetime'])"
   ]
  },
  {
   "cell_type": "code",
   "execution_count": 20,
   "metadata": {},
   "outputs": [
    {
     "data": {
      "text/html": [
       "<div>\n",
       "<style scoped>\n",
       "    .dataframe tbody tr th:only-of-type {\n",
       "        vertical-align: middle;\n",
       "    }\n",
       "\n",
       "    .dataframe tbody tr th {\n",
       "        vertical-align: top;\n",
       "    }\n",
       "\n",
       "    .dataframe thead th {\n",
       "        text-align: right;\n",
       "    }\n",
       "</style>\n",
       "<table border=\"1\" class=\"dataframe\">\n",
       "  <thead>\n",
       "    <tr style=\"text-align: right;\">\n",
       "      <th></th>\n",
       "      <th>datetime</th>\n",
       "      <th>season</th>\n",
       "      <th>holiday</th>\n",
       "      <th>workingday</th>\n",
       "      <th>weather</th>\n",
       "      <th>year</th>\n",
       "      <th>month</th>\n",
       "      <th>day</th>\n",
       "      <th>dayofweek</th>\n",
       "      <th>hour</th>\n",
       "      <th>component_0</th>\n",
       "      <th>component_1</th>\n",
       "    </tr>\n",
       "  </thead>\n",
       "  <tbody>\n",
       "    <tr>\n",
       "      <th>0</th>\n",
       "      <td>2011-01-20 00:00:00</td>\n",
       "      <td>1</td>\n",
       "      <td>0</td>\n",
       "      <td>1</td>\n",
       "      <td>1</td>\n",
       "      <td>2011</td>\n",
       "      <td>1</td>\n",
       "      <td>20</td>\n",
       "      <td>3</td>\n",
       "      <td>0</td>\n",
       "      <td>-0.103577</td>\n",
       "      <td>0.275370</td>\n",
       "    </tr>\n",
       "    <tr>\n",
       "      <th>1</th>\n",
       "      <td>2011-01-20 01:00:00</td>\n",
       "      <td>1</td>\n",
       "      <td>0</td>\n",
       "      <td>1</td>\n",
       "      <td>1</td>\n",
       "      <td>2011</td>\n",
       "      <td>1</td>\n",
       "      <td>20</td>\n",
       "      <td>3</td>\n",
       "      <td>1</td>\n",
       "      <td>-0.236760</td>\n",
       "      <td>-0.119577</td>\n",
       "    </tr>\n",
       "  </tbody>\n",
       "</table>\n",
       "</div>"
      ],
      "text/plain": [
       "             datetime  season  holiday  workingday  weather  year  month  day  \\\n",
       "0 2011-01-20 00:00:00       1        0           1        1  2011      1   20   \n",
       "1 2011-01-20 01:00:00       1        0           1        1  2011      1   20   \n",
       "\n",
       "   dayofweek  hour  component_0  component_1  \n",
       "0          3     0    -0.103577     0.275370  \n",
       "1          3     1    -0.236760    -0.119577  "
      ]
     },
     "execution_count": 20,
     "metadata": {},
     "output_type": "execute_result"
    }
   ],
   "source": [
    "df_test.head(2)"
   ]
  },
  {
   "cell_type": "code",
   "execution_count": 21,
   "metadata": {},
   "outputs": [],
   "source": [
    "X_test =  df_test.iloc[:,1:] # Exclude datetime for prediction"
   ]
  },
  {
   "cell_type": "code",
   "execution_count": 22,
   "metadata": {},
   "outputs": [
    {
     "data": {
      "text/html": [
       "<div>\n",
       "<style scoped>\n",
       "    .dataframe tbody tr th:only-of-type {\n",
       "        vertical-align: middle;\n",
       "    }\n",
       "\n",
       "    .dataframe tbody tr th {\n",
       "        vertical-align: top;\n",
       "    }\n",
       "\n",
       "    .dataframe thead th {\n",
       "        text-align: right;\n",
       "    }\n",
       "</style>\n",
       "<table border=\"1\" class=\"dataframe\">\n",
       "  <thead>\n",
       "    <tr style=\"text-align: right;\">\n",
       "      <th></th>\n",
       "      <th>season</th>\n",
       "      <th>holiday</th>\n",
       "      <th>workingday</th>\n",
       "      <th>weather</th>\n",
       "      <th>year</th>\n",
       "      <th>month</th>\n",
       "      <th>day</th>\n",
       "      <th>dayofweek</th>\n",
       "      <th>hour</th>\n",
       "      <th>component_0</th>\n",
       "      <th>component_1</th>\n",
       "    </tr>\n",
       "  </thead>\n",
       "  <tbody>\n",
       "    <tr>\n",
       "      <th>0</th>\n",
       "      <td>1</td>\n",
       "      <td>0</td>\n",
       "      <td>1</td>\n",
       "      <td>1</td>\n",
       "      <td>2011</td>\n",
       "      <td>1</td>\n",
       "      <td>20</td>\n",
       "      <td>3</td>\n",
       "      <td>0</td>\n",
       "      <td>-0.103577</td>\n",
       "      <td>0.275370</td>\n",
       "    </tr>\n",
       "    <tr>\n",
       "      <th>1</th>\n",
       "      <td>1</td>\n",
       "      <td>0</td>\n",
       "      <td>1</td>\n",
       "      <td>1</td>\n",
       "      <td>2011</td>\n",
       "      <td>1</td>\n",
       "      <td>20</td>\n",
       "      <td>3</td>\n",
       "      <td>1</td>\n",
       "      <td>-0.236760</td>\n",
       "      <td>-0.119577</td>\n",
       "    </tr>\n",
       "  </tbody>\n",
       "</table>\n",
       "</div>"
      ],
      "text/plain": [
       "   season  holiday  workingday  weather  year  month  day  dayofweek  hour  \\\n",
       "0       1        0           1        1  2011      1   20          3     0   \n",
       "1       1        0           1        1  2011      1   20          3     1   \n",
       "\n",
       "   component_0  component_1  \n",
       "0    -0.103577     0.275370  \n",
       "1    -0.236760    -0.119577  "
      ]
     },
     "execution_count": 22,
     "metadata": {},
     "output_type": "execute_result"
    }
   ],
   "source": [
    "X_test.head(2)"
   ]
  },
  {
   "cell_type": "code",
   "execution_count": 23,
   "metadata": {},
   "outputs": [],
   "source": [
    "result = regressor.predict(X_test)"
   ]
  },
  {
   "cell_type": "code",
   "execution_count": 24,
   "metadata": {},
   "outputs": [
    {
     "data": {
      "text/plain": [
       "array([2.378478 , 2.0100071, 1.5464854, 1.1762215, 1.111353 ],\n",
       "      dtype=float32)"
      ]
     },
     "execution_count": 24,
     "metadata": {},
     "output_type": "execute_result"
    }
   ],
   "source": [
    "result[:5]"
   ]
  },
  {
   "cell_type": "code",
   "execution_count": 25,
   "metadata": {},
   "outputs": [],
   "source": [
    "# Convert result to actual count\n",
    "df_test[\"count\"] = np.expm1(result)"
   ]
  },
  {
   "cell_type": "code",
   "execution_count": 26,
   "metadata": {},
   "outputs": [
    {
     "data": {
      "text/html": [
       "<div>\n",
       "<style scoped>\n",
       "    .dataframe tbody tr th:only-of-type {\n",
       "        vertical-align: middle;\n",
       "    }\n",
       "\n",
       "    .dataframe tbody tr th {\n",
       "        vertical-align: top;\n",
       "    }\n",
       "\n",
       "    .dataframe thead th {\n",
       "        text-align: right;\n",
       "    }\n",
       "</style>\n",
       "<table border=\"1\" class=\"dataframe\">\n",
       "  <thead>\n",
       "    <tr style=\"text-align: right;\">\n",
       "      <th></th>\n",
       "      <th>datetime</th>\n",
       "      <th>season</th>\n",
       "      <th>holiday</th>\n",
       "      <th>workingday</th>\n",
       "      <th>weather</th>\n",
       "      <th>year</th>\n",
       "      <th>month</th>\n",
       "      <th>day</th>\n",
       "      <th>dayofweek</th>\n",
       "      <th>hour</th>\n",
       "      <th>component_0</th>\n",
       "      <th>component_1</th>\n",
       "      <th>count</th>\n",
       "    </tr>\n",
       "  </thead>\n",
       "  <tbody>\n",
       "    <tr>\n",
       "      <th>0</th>\n",
       "      <td>2011-01-20 00:00:00</td>\n",
       "      <td>1</td>\n",
       "      <td>0</td>\n",
       "      <td>1</td>\n",
       "      <td>1</td>\n",
       "      <td>2011</td>\n",
       "      <td>1</td>\n",
       "      <td>20</td>\n",
       "      <td>3</td>\n",
       "      <td>0</td>\n",
       "      <td>-0.103577</td>\n",
       "      <td>0.275370</td>\n",
       "      <td>9.788471</td>\n",
       "    </tr>\n",
       "    <tr>\n",
       "      <th>1</th>\n",
       "      <td>2011-01-20 01:00:00</td>\n",
       "      <td>1</td>\n",
       "      <td>0</td>\n",
       "      <td>1</td>\n",
       "      <td>1</td>\n",
       "      <td>2011</td>\n",
       "      <td>1</td>\n",
       "      <td>20</td>\n",
       "      <td>3</td>\n",
       "      <td>1</td>\n",
       "      <td>-0.236760</td>\n",
       "      <td>-0.119577</td>\n",
       "      <td>6.463371</td>\n",
       "    </tr>\n",
       "    <tr>\n",
       "      <th>2</th>\n",
       "      <td>2011-01-20 02:00:00</td>\n",
       "      <td>1</td>\n",
       "      <td>0</td>\n",
       "      <td>1</td>\n",
       "      <td>1</td>\n",
       "      <td>2011</td>\n",
       "      <td>1</td>\n",
       "      <td>20</td>\n",
       "      <td>3</td>\n",
       "      <td>2</td>\n",
       "      <td>-0.236760</td>\n",
       "      <td>-0.119577</td>\n",
       "      <td>3.694940</td>\n",
       "    </tr>\n",
       "    <tr>\n",
       "      <th>3</th>\n",
       "      <td>2011-01-20 03:00:00</td>\n",
       "      <td>1</td>\n",
       "      <td>0</td>\n",
       "      <td>1</td>\n",
       "      <td>1</td>\n",
       "      <td>2011</td>\n",
       "      <td>1</td>\n",
       "      <td>20</td>\n",
       "      <td>3</td>\n",
       "      <td>3</td>\n",
       "      <td>-0.181841</td>\n",
       "      <td>0.053887</td>\n",
       "      <td>2.242101</td>\n",
       "    </tr>\n",
       "    <tr>\n",
       "      <th>4</th>\n",
       "      <td>2011-01-20 04:00:00</td>\n",
       "      <td>1</td>\n",
       "      <td>0</td>\n",
       "      <td>1</td>\n",
       "      <td>1</td>\n",
       "      <td>2011</td>\n",
       "      <td>1</td>\n",
       "      <td>20</td>\n",
       "      <td>3</td>\n",
       "      <td>4</td>\n",
       "      <td>-0.181841</td>\n",
       "      <td>0.053887</td>\n",
       "      <td>2.038467</td>\n",
       "    </tr>\n",
       "  </tbody>\n",
       "</table>\n",
       "</div>"
      ],
      "text/plain": [
       "             datetime  season  holiday  workingday  weather  year  month  day  \\\n",
       "0 2011-01-20 00:00:00       1        0           1        1  2011      1   20   \n",
       "1 2011-01-20 01:00:00       1        0           1        1  2011      1   20   \n",
       "2 2011-01-20 02:00:00       1        0           1        1  2011      1   20   \n",
       "3 2011-01-20 03:00:00       1        0           1        1  2011      1   20   \n",
       "4 2011-01-20 04:00:00       1        0           1        1  2011      1   20   \n",
       "\n",
       "   dayofweek  hour  component_0  component_1     count  \n",
       "0          3     0    -0.103577     0.275370  9.788471  \n",
       "1          3     1    -0.236760    -0.119577  6.463371  \n",
       "2          3     2    -0.236760    -0.119577  3.694940  \n",
       "3          3     3    -0.181841     0.053887  2.242101  \n",
       "4          3     4    -0.181841     0.053887  2.038467  "
      ]
     },
     "execution_count": 26,
     "metadata": {},
     "output_type": "execute_result"
    }
   ],
   "source": [
    "df_test.head()"
   ]
  },
  {
   "cell_type": "code",
   "execution_count": 27,
   "metadata": {},
   "outputs": [
    {
     "data": {
      "text/html": [
       "<div>\n",
       "<style scoped>\n",
       "    .dataframe tbody tr th:only-of-type {\n",
       "        vertical-align: middle;\n",
       "    }\n",
       "\n",
       "    .dataframe tbody tr th {\n",
       "        vertical-align: top;\n",
       "    }\n",
       "\n",
       "    .dataframe thead th {\n",
       "        text-align: right;\n",
       "    }\n",
       "</style>\n",
       "<table border=\"1\" class=\"dataframe\">\n",
       "  <thead>\n",
       "    <tr style=\"text-align: right;\">\n",
       "      <th></th>\n",
       "      <th>datetime</th>\n",
       "      <th>season</th>\n",
       "      <th>holiday</th>\n",
       "      <th>workingday</th>\n",
       "      <th>weather</th>\n",
       "      <th>year</th>\n",
       "      <th>month</th>\n",
       "      <th>day</th>\n",
       "      <th>dayofweek</th>\n",
       "      <th>hour</th>\n",
       "      <th>component_0</th>\n",
       "      <th>component_1</th>\n",
       "      <th>count</th>\n",
       "    </tr>\n",
       "  </thead>\n",
       "  <tbody>\n",
       "  </tbody>\n",
       "</table>\n",
       "</div>"
      ],
      "text/plain": [
       "Empty DataFrame\n",
       "Columns: [datetime, season, holiday, workingday, weather, year, month, day, dayofweek, hour, component_0, component_1, count]\n",
       "Index: []"
      ]
     },
     "execution_count": 27,
     "metadata": {},
     "output_type": "execute_result"
    }
   ],
   "source": [
    "df_test[df_test[\"count\"] < 0]"
   ]
  },
  {
   "cell_type": "code",
   "execution_count": 28,
   "metadata": {},
   "outputs": [],
   "source": [
    "df_test['count'] = df_test['count'].map(adjust_count)"
   ]
  },
  {
   "cell_type": "code",
   "execution_count": 29,
   "metadata": {},
   "outputs": [
    {
     "data": {
      "text/html": [
       "<div>\n",
       "<style scoped>\n",
       "    .dataframe tbody tr th:only-of-type {\n",
       "        vertical-align: middle;\n",
       "    }\n",
       "\n",
       "    .dataframe tbody tr th {\n",
       "        vertical-align: top;\n",
       "    }\n",
       "\n",
       "    .dataframe thead th {\n",
       "        text-align: right;\n",
       "    }\n",
       "</style>\n",
       "<table border=\"1\" class=\"dataframe\">\n",
       "  <thead>\n",
       "    <tr style=\"text-align: right;\">\n",
       "      <th></th>\n",
       "      <th>datetime</th>\n",
       "      <th>season</th>\n",
       "      <th>holiday</th>\n",
       "      <th>workingday</th>\n",
       "      <th>weather</th>\n",
       "      <th>year</th>\n",
       "      <th>month</th>\n",
       "      <th>day</th>\n",
       "      <th>dayofweek</th>\n",
       "      <th>hour</th>\n",
       "      <th>component_0</th>\n",
       "      <th>component_1</th>\n",
       "      <th>count</th>\n",
       "    </tr>\n",
       "  </thead>\n",
       "  <tbody>\n",
       "  </tbody>\n",
       "</table>\n",
       "</div>"
      ],
      "text/plain": [
       "Empty DataFrame\n",
       "Columns: [datetime, season, holiday, workingday, weather, year, month, day, dayofweek, hour, component_0, component_1, count]\n",
       "Index: []"
      ]
     },
     "execution_count": 29,
     "metadata": {},
     "output_type": "execute_result"
    }
   ],
   "source": [
    "df_test[df_test[\"count\"] < 0]"
   ]
  },
  {
   "cell_type": "code",
   "execution_count": 30,
   "metadata": {},
   "outputs": [],
   "source": [
    "df_test[['datetime','count']].to_csv('predicted_count_pca.csv',index=False)"
   ]
  }
 ],
 "metadata": {
  "kernelspec": {
   "display_name": "tensorflow",
   "language": "python",
   "name": "python3"
  },
  "language_info": {
   "codemirror_mode": {
    "name": "ipython",
    "version": 3
   },
   "file_extension": ".py",
   "mimetype": "text/x-python",
   "name": "python",
   "nbconvert_exporter": "python",
   "pygments_lexer": "ipython3",
   "version": "3.10.12"
  }
 },
 "nbformat": 4,
 "nbformat_minor": 2
}
